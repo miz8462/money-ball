{
 "cells": [
  {
   "cell_type": "code",
   "execution_count": 1,
   "metadata": {},
   "outputs": [],
   "source": [
    "from bs4 import BeautifulSoup\n",
    "import requests\n"
   ]
  },
  {
   "cell_type": "code",
   "execution_count": 2,
   "metadata": {},
   "outputs": [],
   "source": [
    "# ホームから各チームの「選手一覧」のURLを取得する\n",
    "url = \"https://baseball-data.com/\"\n",
    "headers = {\"User-Agent\": \"Mozilla/5.0\"}  # リクエストヘッダーがないとbot判定され403が返される\n",
    "\n",
    "\n",
    "def get_players_list_urls(url, headers):\n",
    "    res = requests.get(url, headers=headers)\n",
    "    soup = BeautifulSoup(res.text, \"html.parser\")\n",
    "    table = soup.find_all(\"table\", attrs={\"class\": \"stats-menu\"})\n",
    "    tables = table[:2]\n",
    "    team_urls = []\n",
    "    for table in tables:\n",
    "        trs = table.find_all(\"tr\")\n",
    "        for tr in trs:\n",
    "            tds = tr.find_all(\"td\")\n",
    "            team_url = tds[1].a.get(\"href\")\n",
    "            team_urls.append(team_url)\n",
    "    return team_urls\n",
    "\n",
    "\n",
    "team_urls = get_players_list_urls(url, headers)"
   ]
  },
  {
   "cell_type": "code",
   "execution_count": 3,
   "metadata": {},
   "outputs": [
    {
     "data": {
      "text/plain": [
       "['https://baseball-data.com/player/f/%E3%83%9E%E3%83%AB%E3%83%86%E3%82%A3%E3%83%8D%E3%82%B9',\n",
       " 'https://baseball-data.com/player/f/%E5%8A%A0%E8%97%A4%E3%80%80%E8%B1%AA%E5%B0%86',\n",
       " 'https://baseball-data.com/player/f/%E4%B8%8A%E5%B7%9D%E7%95%91%E3%80%80%E5%A4%A7%E6%82%9F',\n",
       " 'https://baseball-data.com/player/f/%E9%87%8E%E6%9D%91%E3%80%80%E4%BD%91%E5%B8%8C',\n",
       " 'https://baseball-data.com/player/f/%E3%82%A2%E3%83%AB%E3%82%AB%E3%83%B3%E3%82%BF%E3%83%A9',\n",
       " 'https://baseball-data.com/player/f/%E6%9D%BE%E6%9C%AC%E3%80%80%E5%89%9B',\n",
       " 'https://baseball-data.com/player/f/%E6%B7%BA%E9%96%93%E3%80%80%E5%A4%A7%E5%9F%BA',\n",
       " 'https://baseball-data.com/player/f/%E4%B8%AD%E5%B3%B6%E3%80%80%E5%8D%93%E4%B9%9F',\n",
       " 'https://baseball-data.com/player/f/%E6%B8%85%E6%B0%B4%E3%80%80%E5%84%AA%E5%BF%83',\n",
       " 'https://baseball-data.com/player/f/%E7%9F%A2%E6%BE%A4%E3%80%80%E5%AE%8F%E5%A4%AA',\n",
       " 'https://baseball-data.com/player/f/%E7%94%9F%E7%94%B0%E7%9B%AE%E3%80%80%E7%BF%BC',\n",
       " 'https://baseball-data.com/player/f/%E5%8A%A0%E8%97%A4%E3%80%80%E8%B2%B4%E4%B9%8B',\n",
       " 'https://baseball-data.com/player/f/%E4%B8%8A%E6%B2%A2%E3%80%80%E7%9B%B4%E4%B9%8B',\n",
       " 'https://baseball-data.com/player/f/%E9%81%94%E3%80%80%E5%AD%9D%E5%A4%AA',\n",
       " 'https://baseball-data.com/player/f/%E4%BC%8A%E8%97%A4%E3%80%80%E5%A4%A7%E6%B5%B7',\n",
       " 'https://baseball-data.com/player/f/%E5%90%89%E7%94%B0%E3%80%80%E8%BC%9D%E6%98%9F',\n",
       " 'https://baseball-data.com/player/f/%E7%8E%89%E4%BA%95%E3%80%80%E5%A4%A7%E7%BF%94',\n",
       " 'https://baseball-data.com/player/f/%E4%B8%8A%E5%8E%9F%E3%80%80%E5%81%A5%E5%A4%AA',\n",
       " 'https://baseball-data.com/player/f/%E6%B8%85%E5%AE%AE%E3%80%80%E5%B9%B8%E5%A4%AA%E9%83%8E',\n",
       " 'https://baseball-data.com/player/f/%E6%9D%89%E6%B5%A6%E3%80%80%E7%A8%94%E5%A4%A7',\n",
       " 'https://baseball-data.com/player/f/%E4%BC%8F%E8%A6%8B%E3%80%80%E5%AF%85%E5%A8%81',\n",
       " 'https://baseball-data.com/player/f/%E9%87%91%E6%9D%91%E3%80%80%E5%B0%9A%E7%9C%9F',\n",
       " 'https://baseball-data.com/player/f/%E5%AE%AE%E8%A5%BF%E3%80%80%E5%B0%9A%E7%94%9F',\n",
       " 'https://baseball-data.com/player/f/%E7%94%B0%E4%B8%AD%E3%80%80%E6%AD%A3%E7%BE%A9',\n",
       " 'https://baseball-data.com/player/f/%E5%8F%A4%E5%B7%9D%E3%80%80%E8%A3%95%E5%A4%A7',\n",
       " 'https://baseball-data.com/player/f/%E6%B2%B3%E9%87%8E%E3%80%80%E7%AB%9C%E7%94%9F',\n",
       " 'https://baseball-data.com/player/f/%E4%BA%95%E5%8F%A3%E3%80%80%E5%92%8C%E6%9C%8B',\n",
       " 'https://baseball-data.com/player/f/%E5%AE%87%E4%BD%90%E8%A6%8B%E3%80%80%E7%9C%9F%E5%90%BE',\n",
       " 'https://baseball-data.com/player/f/%E8%B0%B7%E5%86%85%E3%80%80%E4%BA%AE%E5%A4%AA',\n",
       " 'https://baseball-data.com/player/f/%E7%AB%8B%E9%87%8E%E3%80%80%E5%92%8C%E6%98%8E',\n",
       " 'https://baseball-data.com/player/f/%E5%A0%80%E3%80%80%E7%91%9E%E8%BC%9D',\n",
       " 'https://baseball-data.com/player/f/%E7%A6%8F%E7%94%B0%E3%80%80%E5%85%89%E8%BC%9D',\n",
       " 'https://baseball-data.com/player/f/%E6%9C%A8%E6%9D%91%E3%80%80%E6%96%87%E7%B4%80',\n",
       " 'https://baseball-data.com/player/f/%E6%B1%9F%E8%B6%8A%E3%80%80%E5%A4%A7%E8%B3%80',\n",
       " 'https://baseball-data.com/player/f/%E7%9F%B3%E4%BA%95%E3%80%80%E4%B8%80%E6%88%90',\n",
       " 'https://baseball-data.com/player/f/%E6%9C%89%E8%96%97%E3%80%80%E7%9B%B4%E8%BC%9D',\n",
       " 'https://baseball-data.com/player/f/%E7%A6%8F%E7%94%B0%E3%80%80%E4%BF%8A',\n",
       " 'https://baseball-data.com/player/f/%E3%83%AD%E3%83%89%E3%83%AA%E3%82%B2%E3%82%B9',\n",
       " 'https://baseball-data.com/player/f/%E3%82%AC%E3%83%B3%E3%83%88',\n",
       " 'https://baseball-data.com/player/f/%E6%B0%B4%E9%87%8E%E3%80%80%E9%81%94%E7%A8%80',\n",
       " 'https://baseball-data.com/player/f/%E9%98%AA%E5%8F%A3%E3%80%80%E6%A8%82',\n",
       " 'https://baseball-data.com/player/f/%E3%83%9D%E3%83%B3%E3%82%BB',\n",
       " 'https://baseball-data.com/player/f/%E7%95%94%E6%9F%B3%E3%80%80%E4%BA%A8%E4%B8%9E',\n",
       " 'https://baseball-data.com/player/f/%E9%88%B4%E6%9C%A8%E3%80%80%E5%81%A5%E7%9F%A2',\n",
       " 'https://baseball-data.com/player/f/%E9%BD%8B%E8%97%A4%E3%80%80%E5%8F%8B%E8%B2%B4%E5%93%89',\n",
       " 'https://baseball-data.com/player/f/%E5%B1%B1%E7%94%B0%E3%80%80%E9%81%A5%E6%A5%93',\n",
       " 'https://baseball-data.com/player/f/%E4%BA%94%E5%8D%81%E5%B9%A1%E3%80%80%E4%BA%AE%E6%B1%B0',\n",
       " 'https://baseball-data.com/player/f/%E7%9F%B3%E5%B7%9D%E3%80%80%E7%9B%B4%E4%B9%9F',\n",
       " 'https://baseball-data.com/player/f/%E6%B1%A0%E7%94%B0%E3%80%80%E9%9A%86%E8%8B%B1',\n",
       " 'https://baseball-data.com/player/f/%E9%95%B7%E8%B0%B7%E5%B7%9D%E3%80%80%E5%A8%81%E5%B1%95',\n",
       " 'https://baseball-data.com/player/f/%E5%AE%89%E8%A5%BF%E3%80%80%E5%8F%B6%E7%BF%94',\n",
       " 'https://baseball-data.com/player/f/%E6%9D%BE%E6%B5%A6%E3%80%80%E6%85%B6%E6%96%97',\n",
       " 'https://baseball-data.com/player/f/%E7%B4%B0%E5%B7%9D%E3%80%80%E5%87%8C%E5%B9%B3',\n",
       " 'https://baseball-data.com/player/f/%E5%8C%97%E5%B1%B1%E3%80%80%E4%BA%98%E5%9F%BA',\n",
       " 'https://baseball-data.com/player/f/%E5%A5%88%E8%89%AF%E9%96%93%E3%80%80%E5%A4%A7%E5%B7%B1',\n",
       " 'https://baseball-data.com/player/f/%E6%A0%B9%E6%9C%AC%E3%80%80%E6%82%A0%E6%A5%93',\n",
       " 'https://baseball-data.com/player/f/%E9%83%A1%E3%80%80%E6%8B%93%E4%B9%9F',\n",
       " 'https://baseball-data.com/player/f/%E4%BB%8A%E5%B7%9D%E3%80%80%E5%84%AA%E9%A6%AC',\n",
       " 'https://baseball-data.com/player/f/%E5%AE%AE%E5%86%85%E3%80%80%E6%98%A5%E8%BC%9D',\n",
       " 'https://baseball-data.com/player/f/%E5%8C%97%E6%B5%A6%E3%80%80%E7%AB%9C%E6%AC%A1',\n",
       " 'https://baseball-data.com/player/f/%E7%94%B0%E5%AE%AE%E3%80%80%E8%A3%95%E6%B6%BC',\n",
       " 'https://baseball-data.com/player/f/%E6%A2%85%E6%9E%97%E3%80%80%E5%84%AA%E8%B2%B4',\n",
       " 'https://baseball-data.com/player/f/%E4%B8%87%E6%B3%A2%E3%80%80%E4%B8%AD%E6%AD%A3',\n",
       " 'https://baseball-data.com/player/f/%E9%BD%8B%E8%97%A4%E3%80%80%E7%B6%B1%E8%A8%98',\n",
       " 'https://baseball-data.com/player/f/%E6%9D%BE%E5%B2%A1%E3%80%80%E6%B4%B8%E5%B8%8C',\n",
       " 'https://baseball-data.com/player/f/%E3%83%A1%E3%83%8D%E3%82%BA',\n",
       " 'https://baseball-data.com/player/f/%E7%94%B0%E4%B8%AD%E3%80%80%E7%91%9B%E6%96%97',\n",
       " 'https://baseball-data.com/player/f/%E6%9D%BE%E6%9C%AC%E3%80%80%E9%81%BC%E5%A4%A7',\n",
       " 'https://baseball-data.com/player/f/%E9%BD%8A%E8%97%A4%E3%80%80%E4%BC%B8%E6%B2%BB',\n",
       " 'https://baseball-data.com/player/f/%E7%A6%8F%E5%B3%B6%E3%80%80%E8%93%AE',\n",
       " 'https://baseball-data.com/player/f/%E6%9F%B3%E5%B7%9D%E3%80%80%E5%A4%A7%E6%99%9F',\n",
       " 'https://baseball-data.com/player/f/%E9%98%BF%E9%83%A8%E3%80%80%E5%92%8C%E5%BA%83',\n",
       " 'https://baseball-data.com/player/f/%E8%97%A4%E7%94%B0%E3%80%80%E5%A4%A7%E6%B8%85',\n",
       " 'https://baseball-data.com/player/f/%E4%B8%AD%E5%B1%B1%E3%80%80%E6%99%B6%E9%87%8F',\n",
       " 'https://baseball-data.com/player/f/%E5%B1%B1%E5%8F%A3%E3%80%80%E3%82%A2%E3%82%BF%E3%83%AB',\n",
       " 'https://baseball-data.com/player/f/%E5%B1%B1%E6%9C%AC%E3%80%80%E6%99%83%E5%A4%A7',\n",
       " 'https://baseball-data.com/player/f/%E6%9F%BF%E6%9C%A8%E3%80%80%E8%93%AE',\n",
       " 'https://baseball-data.com/player/f/%E5%A7%AB%E9%87%8E%E3%80%80%E5%84%AA%E4%B9%9F',\n",
       " 'https://baseball-data.com/player/f/%E7%8E%8B%E3%80%80%E6%9F%8F%E8%9E%8D']"
      ]
     },
     "execution_count": 3,
     "metadata": {},
     "output_type": "execute_result"
    }
   ],
   "source": [
    "# 選手一覧から各選手のURLを取得する\n",
    "def get_player_urls(url, headers):\n",
    "    res = requests.get(url, headers=headers)\n",
    "    soup = BeautifulSoup(res.text, \"html.parser\")\n",
    "    trs = soup.tbody.find_all(\"tr\")\n",
    "    player_urls = []\n",
    "    for tr in trs:\n",
    "        tds = tr.find_all(\"td\")\n",
    "        player_url = tds[1].a.get(\"href\")\n",
    "        player_urls.append(player_url)\n",
    "    return player_urls\n",
    "\n",
    "player_urls = get_player_urls(\"https://baseball-data.com/player/f/\", headers)\n",
    "player_urls"
   ]
  },
  {
   "cell_type": "code",
   "execution_count": 5,
   "metadata": {},
   "outputs": [
    {
     "data": {
      "text/plain": [
       "{'name': '戸柱恭孝',\n",
       " 'born': '1990/4/11/',\n",
       " 'height': '179',\n",
       " 'weight': '90',\n",
       " 'salary': '4000',\n",
       " 'uniform_number': '10',\n",
       " 'team_name': 'yb'}"
      ]
     },
     "execution_count": 5,
     "metadata": {},
     "output_type": "execute_result"
    }
   ],
   "source": [
    "# 各選手の個人データを取得する\n",
    "def get_players_data(url, headers):\n",
    "    res = requests.get(url, headers=headers)\n",
    "    soup = BeautifulSoup(res.text, \"html.parser\")\n",
    "    uniform_number = soup.h2.text.split(\"(\")[0].split(\" \")[0]\n",
    "    name = soup.h2.text.split(\"(\")[0].split(\" \")[1].replace(\"　\", \"\")\n",
    "    trs = soup.table.find_all(\"tr\")\n",
    "    all_data= []\n",
    "    for tr in trs:\n",
    "        tds = tr.find_all(\"td\")\n",
    "        for td in tds:\n",
    "            all_data.append(td.text)\n",
    "    born = all_data[0].replace(\"年\", \"/\").replace(\"月\", \"/\").replace(\"日\", \"/\")\n",
    "    height = all_data[6].replace(\"cm\", \"\")\n",
    "    weight = all_data[8].replace(\"kg\", \"\")\n",
    "    salary = all_data[9].replace(\"万円（推定）\", \"\").replace(\",\", \"\")\n",
    "    team_name = url.split(\"/\")[-2]\n",
    "    player_data = {\n",
    "        \"name\": name,\n",
    "        \"born\": born,\n",
    "        \"height\": height,\n",
    "        \"weight\": weight,\n",
    "        \"salary\": salary,\n",
    "        \"uniform_number\": uniform_number,\n",
    "        \"team_name\": team_name,\n",
    "    }\n",
    "\n",
    "    return player_data\n",
    "\n",
    "get_players_data(\"https://baseball-data.com/player/yb/%E6%88%B8%E6%9F%B1%E3%80%80%E6%81%AD%E5%AD%9D\", headers)\n",
    "# get_players_data(\"https://baseball-data.com/player/f/%E9%87%91%E6%9D%91%E3%80%80%E5%B0%9A%E7%9C%9F\", headers)"
   ]
  },
  {
   "cell_type": "code",
   "execution_count": null,
   "metadata": {},
   "outputs": [],
   "source": []
  }
 ],
 "metadata": {
  "kernelspec": {
   "display_name": "venv",
   "language": "python",
   "name": "python3"
  },
  "language_info": {
   "codemirror_mode": {
    "name": "ipython",
    "version": 3
   },
   "file_extension": ".py",
   "mimetype": "text/x-python",
   "name": "python",
   "nbconvert_exporter": "python",
   "pygments_lexer": "ipython3",
   "version": "3.10.6"
  },
  "orig_nbformat": 4
 },
 "nbformat": 4,
 "nbformat_minor": 2
}
